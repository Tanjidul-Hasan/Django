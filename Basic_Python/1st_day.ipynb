{
 "cells": [
  {
   "cell_type": "markdown",
   "metadata": {},
   "source": [
    "# How To Make a comment\n",
    "Before starting our python journey, at first we need to know how to make comment a single line or multiple line.\n",
    "\n",
    "     i.    For single line we can use '#' before that line or we can use for vs code ctrl + / we we can \n", 
                remove also using same shortcut.\n",
    "     ii.   For multiple line we can use tripple quatted('''...''' or \"\"\"...\"\"\") we do this \n",
    "           using shift + alt + A and we remove also using same code. this make all line a as docstring \n",
    "           comment.\n",
    "     iii.  we can make comment all line using another shortcut also which will make all line as single \n",
                line comment at a time. This is very ammizing as to do many line comments we don't need \n",
                comment one by one.  "
   ]
  },
  {
   "cell_type": "markdown",
   "metadata": {},
   "source": []
  },
  {
   "cell_type": "markdown",
   "metadata": {},
   "source": [
    "# Printing anything"
   ]
  },
  {
   "cell_type": "code",
   "execution_count": 1,
   "metadata": {},
   "outputs": [
    {
     "name": "stdout",
     "output_type": "stream",
     "text": [
      "Easy Education\n"
     ]
    }
   ],
   "source": [
    "# we use the print() function to output data to the standard output device(screen).\n",
    "print(\"Easy Education\")"
   ]
  },
  {
   "cell_type": "markdown",
   "metadata": {},
   "source": [
    "# Get Input from User "
   ]
  },
  {
   "cell_type": "code",
   "execution_count": 15,
   "metadata": {},
   "outputs": [
    {
     "name": "stdout",
     "output_type": "stream",
     "text": [
      "Organization Name is:Easy Education\n",
      "Organization Name is: Easy Education\n"
     ]
    }
   ],
   "source": [
    "#input() function is used to read a line of input enterd by the user at the console and reurns it as a string.\n",
    "name=input(\"Enter Your Organization Name:\")\n",
    "print(\"Organization Name is:\"+name)\n",
    "print(\"Organization Name is:\",name)# this will create a space"
   ]
  },
  {
   "cell_type": "markdown",
   "metadata": {},
   "source": [
    "# Variable"
   ]
  },
  {
   "cell_type": "code",
   "execution_count": null,
   "metadata": {},
   "outputs": [],
   "source": [
    "# variable are containers for storing data values.\n"
   ]
  },
  {
   "cell_type": "markdown",
   "metadata": {},
   "source": [
    "### Rules of Variable\n",
    "      i.The first character of the variable must be an alphabate or underscore(_).\n",
    "        Ex: EasyEducation/_easyeducation\n",
    "     ii.A variable name can only contain alpha-numeric character and underscores(A-Z,0-9,_) \n",
    "    iii.Identifier name must not contain any white-space, or special character(!,@,#,%,^,&,*)\n",
    "     iv.Identifier name must not be similar to any keyword defined in the language.\n",
    "      v.Identifier names are case sensetive.\n",
    "        Ex:EasyEducation and easyeducation is not the same. \n",
    "\n",
    "\n",
    "### Multi Words Variable\n",
    "    Python have 3 types variable of Multi Words Variable\n",
    "    i. Camel Case: \n",
    "       Each word, except the firs,starts with a capital letter.\n",
    "       Ex: camelCaseVariable=\"Hasan\"\n",
    "    ii.Pascla Case:\n",
    "       Each word starts with a capital letter.\n",
    "       Ex: PascalCaseVariable =\"Hasan\"\n",
    "    iii. Snake Case:\n",
    "        Each word sperated by an underscore character.\n",
    "        Ex: snake_case_variable=\"Django\"\n",
    "\n",
    "     \n",
    "#### Multi Assignment Variable\n",
    "     Python allows us to assign a value to multiple variables in a single staement , which is also known as multiple assignments. \n",
    "     we can apply multiple assignments in two ways. such as:\n",
    "     i. Assigning a single value to multiple variables.\n",
    "        Ex: a=b=c=10\n",
    "            print(a)\n",
    "            print(b)\n",
    "            print(c) \n",
    "    ii. Assigning a single value to multiple variables.\n",
    "        Ex: a,b,c=10,15,30\n",
    "            print(a)\n",
    "            print(b)\n",
    "            print(c) "
   ]
  },
  {
   "cell_type": "code",
   "execution_count": 22,
   "metadata": {},
   "outputs": [
    {
     "name": "stdout",
     "output_type": "stream",
     "text": [
      "2849937479088\n",
      "2849937479088\n",
      "2849937479088\n",
      "2849937479088\n",
      "2849937471792\n",
      "2849908934640\n",
      "2849937465776\n"
     ]
    }
   ],
   "source": [
    "# check memory location of a variable\n",
    "a=\"Tanjidul\"\n",
    "print(id(a))\n",
    "\n",
    "a=m=q=\"Tanjidul\"\n",
    "print(id(a))\n",
    "print(id(m))\n",
    "print(id(q))\n",
    "\n",
    "#check memory location for Different variable\n",
    "k=\"Taimur\"\n",
    "m=\"Hasan\"\n",
    "n=\"Arshan\"\n",
    "print(id(k))\n",
    "print(id(m))\n",
    "print(id(n))"
   ]
  },
  {
   "cell_type": "code",
   "execution_count": 18,
   "metadata": {},
   "outputs": [
    {
     "name": "stdout",
     "output_type": "stream",
     "text": [
      "2849937479088\n",
      "2849937479088\n",
      "2849937479088\n"
     ]
    }
   ],
   "source": [
    "a=m=q=\"Tanjidul\"\n",
    "print(id(a))\n",
    "print(id(m))\n",
    "print(id(q))"
   ]
  },
  {
   "cell_type": "markdown",
   "metadata": {},
   "source": [
    "# Data Types\n",
    "### Built in Data Types\n",
    "In programming, data type is an important concept.\n",
    "Variables can store data of different types, and different types can do different things.\n",
    "\n",
    "Python has the following data types built-in by default, in these categories:\n",
    "\n",
    "    Text Type:\tstr\n",
    "    Numeric Types:\tint, float, complex\n",
    "    Sequence Types:\tlist, tuple, range\n",
    "    Mapping Type:\tdict\n",
    "    Set Types:\tset, frozenset\n",
    "    Boolean Type:\tbool\n",
    "    Binary Types:\tbytes, bytearray, memoryview\n",
    "    None Type:\tNoneType\n",
    "\n",
    "\n",
    "We can Classify this data types like following:\n",
    "### Mutable data Type in Python\n",
    "    i.   List\n",
    "    ii.  Sets\n",
    "    iii. Dictionary\n",
    "### Immutable data Type in Python\n",
    "    i.   Numbers\n",
    "    ii.  Strings\n",
    "    iii. Tuples"
   ]
  }
 ],
 "metadata": {
  "kernelspec": {
   "display_name": "Python 3",
   "language": "python",
   "name": "python3"
  },
  "language_info": {
   "codemirror_mode": {
    "name": "ipython",
    "version": 3
   },
   "file_extension": ".py",
   "mimetype": "text/x-python",
   "name": "python",
   "nbconvert_exporter": "python",
   "pygments_lexer": "ipython3",
   "version": "3.10.4"
  }
 },
 "nbformat": 4,
 "nbformat_minor": 2
}
