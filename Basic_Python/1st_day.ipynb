{
 "cells": [
  {
   "cell_type": "markdown",
   "metadata": {},
   "source": [
<<<<<<< HEAD
    "# How To Make comment\n",
    "Before starting our python journey at first we need to know how to make comment a single line or multiple line.\n",
    "\n",
    "     i.    For single line we can use '#' before that line or we can use for vs code ctrl + / we we can \n",
=======
    "# How To Make a comment\n",
    "Before starting our python journey, at first we need to know how to make comment a single line or multiple line.\n",
    "\n",
    "     i.    For single line we can use '#' before that line or we can use for vs code ctrl + / we we can \n", 
>>>>>>> 266d302b841f41a76fea541fa9380b9827a323e5
    "           remove also using same shortcut.\n",
    "     ii.   For multiple line we can use tripple quatted('''...''' or \"\"\"...\"\"\") we do this \n",
    "           using shift + alt + A and we remove also using same code. this make all line a as docstring \n",
    "           comment.\n",
    "     iii.  we can make comment all line using another shortcut also which will make all line as single \n",
<<<<<<< HEAD
    "           line comment at a time. This is very ammizing as to do many line comments we don't need\n",
=======
    "           line comment at a time. This is very ammizing as to do many line comments we don't need \n",
>>>>>>> 266d302b841f41a76fea541fa9380b9827a323e5
    "           comment one by one.  "
   ]
  },
  {
   "cell_type": "markdown",
   "metadata": {},
   "source": []
  },
  {
   "cell_type": "markdown",
   "metadata": {},
   "source": [
    "# Printing anything"
   ]
  },
  {
   "cell_type": "code",
   "execution_count": null,
   "metadata": {},
   "outputs": [],
   "source": [
    "# we use the print() function to output data to the standard output device(screen).\n",
    "print(\"Easy Education\")"
   ]
  },
  {
   "cell_type": "markdown",
   "metadata": {},
   "source": [
    "# Get Input from User \n",
    "  In python, we use the input() function to take input from the user.  Whatever we enter as input, the input function converts it into a string. If we enter an integer value still input() function converts it into a string."
   ]
  },
  {
   "cell_type": "code",
   "execution_count": null,
   "metadata": {},
   "outputs": [],
   "source": [
    "#input() function is used to read a line of input enterd by the user at the console and reurns it as a string.\n",
    "name=input(\"Enter Your Organization Name:\")\n",
    "print(\"Organization Name is:\"+name)\n",
    "print(\"Organization Name is:\",name)# this will create a space"
   ]
  },
  {
   "cell_type": "markdown",
   "metadata": {},
   "source": [
    "# Variable"
   ]
  },
  {
   "cell_type": "code",
   "execution_count": null,
   "metadata": {},
   "outputs": [],
   "source": [
    "# variable are containers for storing data values.\n"
   ]
  },
  {
   "cell_type": "markdown",
   "metadata": {},
   "source": [
    "### Rules of Variable\n",
    "      i.The first character of the variable must be an alphabate or underscore(_).\n",
    "        Ex: EasyEducation/_easyeducation\n",
    "     ii.A variable name can only contain alpha-numeric character and underscores(A-Z,0-9,_) \n",
    "    iii.Identifier name must not contain any white-space, or special character(!,@,#,%,^,&,*)\n",
    "     iv.Identifier name must not be similar to any keyword defined in the language.\n",
    "      v.Identifier names are case sensetive.\n",
    "        Ex:EasyEducation and easyeducation is not the same. \n",
    "\n",
    "\n",
    "### Multi Words Variable\n",
    "    Python have 3 types variable of Multi Words Variable\n",
    "    i. Camel Case: \n",
    "       Each word, except the firs,starts with a capital letter.\n",
    "       Ex: camelCaseVariable=\"Hasan\"\n",
    "    ii.Pascla Case:\n",
    "       Each word starts with a capital letter.\n",
    "       Ex: PascalCaseVariable =\"Hasan\"\n",
    "    iii. Snake Case:\n",
    "        Each word sperated by an underscore character.\n",
    "        Ex: snake_case_variable=\"Django\"\n",
    "\n",
    "     \n",
    "#### Multi Assignment Variable\n",
    "     Python allows us to assign a value to multiple variables in a single staement , which is also known as multiple assignments. \n",
    "     we can apply multiple assignments in two ways. such as:\n",
    "     i. Assigning a single value to multiple variables.\n",
    "        Ex: a=b=c=10\n",
    "            print(a)\n",
    "            print(b)\n",
    "            print(c) \n",
    "    ii. Assigning a single value to multiple variables.\n",
    "        Ex: a,b,c=10,15,30\n",
    "            print(a)\n",
    "            print(b)\n",
    "            print(c) "
   ]
  },
  {
   "cell_type": "code",
   "execution_count": null,
   "metadata": {},
   "outputs": [],
   "source": [
    "# check memory location of a variable\n",
    "a=\"Tanjidul\"\n",
    "print(id(a))\n",
    "\n",
    "a=m=q=\"Tanjidul\"\n",
    "print(id(a))\n",
    "print(id(m))\n",
    "print(id(q))\n",
    "\n",
    "#check memory location for Different variable\n",
    "k=\"Taimur\"\n",
    "m=\"Hasan\"\n",
    "n=\"Arshan\"\n",
    "print(id(k))\n",
    "print(id(m))\n",
    "print(id(n))"
   ]
  },
  {
   "cell_type": "code",
   "execution_count": null,
   "metadata": {},
   "outputs": [],
   "source": [
    "a=m=q=\"Tanjidul\"\n",
    "print(id(a))\n",
    "print(id(m))\n",
    "print(id(q))"
   ]
  },
  {
   "cell_type": "markdown",
   "metadata": {},
   "source": [
    "# Data Types\n",
    "### Built in Data Types\n",
    "In programming, data type is an important concept.\n",
    "Variables can store data of different types, and different types can do different things.\n",
    "\n",
    "Python has the following data types built-in by default, in these categories:\n",
    "\n",
    "    Text Type:\tstr\n",
    "    Numeric Types:\tint, float, complex\n",
    "    Sequence Types:\tlist, tuple, range\n",
    "    Mapping Type:\tdict\n",
    "    Set Types:\tset, frozenset\n",
    "    Boolean Type:\tbool\n",
    "    Binary Types:\tbytes, bytearray, memoryview\n",
    "    None Type:\tNoneType\n",
    "\n",
    "\n",
    "We can Classify this data types like following:\n",
    "### Mutable data Type in Python\n",
    "    i.   List\n",
    "    ii.  Sets\n",
    "    iii. Dictionary\n",
    "### Immutable data Type in Python\n",
    "    i.   Numbers\n",
    "    ii.  Strings\n",
    "    iii. Tuples"
   ]
  },
  {
   "cell_type": "markdown",
   "metadata": {},
   "source": [
    "# Strings\n",
    "whatever we write in python using single quotation or double qutation marks is called string.\n",
    "Ex: \"Tanjidul Hasan\"/ 'Tanjidul Hasan'/'12'/\"15\"/\"12.5\"\n",
    "\n"
   ]
  },
  {
   "cell_type": "code",
   "execution_count": 18,
   "metadata": {},
   "outputs": [
    {
     "name": "stdout",
     "output_type": "stream",
     "text": [
      "Sum z+u = 124.0\n"
     ]
    }
   ],
   "source": [
    "# a = \"Arshan\"\n",
    "# print(a)\n",
    "# z=input(\"Enter 1st number:\")\n",
    "# u=input(\"Enter 2nd number:\")\n",
    "# sum=z+u\n",
    "# print(\"Sum z+u =\",sum) #Sum z+u = 6790 what we found here, the no working\\n\n",
    "# #as string because input function always take input from user as string whatever we input.\n",
    "# z=int(input(\"Enter your 1st number:\"))\n",
    "# u=int(input(\"Enter your 2nd number:\"))\n",
    "# sum=z+u\n",
    "#print(\"Sum z+u =\",sum)\n",
    "#here what we dit? we did a conversion here. we said whatever input is given make it integer. \n",
    "# But we stil have a problem if an user give input of a float no then int(input()) will not work\n",
    "# properly. so in this case to be in safe position we can make conversion using float(input()) function.\n",
    "z=float(input(\"Enter your 1st number:\"))\n",
    "u=float(input(\"Enter your 2nd number:\"))\n",
    "sum=z+u\n",
    "print(\"Sum z+u =\",sum)"
   ]
  },
  {
   "cell_type": "markdown",
   "metadata": {},
   "source": [
    "### Slicing\n",
    "we can return a range of characters by using the slice syntex. Here in python counting will start from zero that means 1st character will be count as zero.\n",
    "\n"
   ]
  },
  {
   "cell_type": "code",
   "execution_count": null,
   "metadata": {},
   "outputs": [],
   "source": [
    " s = \"Welcome to python with Django\"\n",
    "print(s[0:7]) #slice From the Start:output = Welcome\n",
    "print(s[11:]) #slice to the end:output =python with Django\n",
    "print(s[11:17]) #Range slicing : output= python, here 17 is excluded. "
   ]
  },
  {
   "cell_type": "markdown",
   "metadata": {},
   "source": [
    "### String Modify\n",
    "Upper Case: The upper() method returns the string in upper case.\\\n",
    "\n",
    "Lower Case: The lower() method returns the string in lower case.\\\n",
    "\n",
    "Remove Whitespace: The strip() method removes any whitespace from the begining or the end.\\\n",
    "\n",
    "Replacing String: The replace() method replaces a string with another string.\\\n",
    "\n",
    "Split String: The split() method returns a list where the text between the specified\\\n",
    "seperator becomes the list items.\n",
    "\n",
    "String Concatination:To concatiante, or combine, two strings you can use the + operator.\n"
   ]
  },
  {
   "cell_type": "code",
   "execution_count": null,
   "metadata": {},
   "outputs": [],
   "source": [
    "s = \"Welcome to python with Django\"\n",
    "k =\"   Welcome to easy education\"\n",
    "l=\"Welcome to python world       \"\n",
    "m= \"with Easy Education\"\n",
    "o= 2024\n",
    "print(s.upper()) # Converting all in upper case.\n",
    "print(s.lower()) # Converting all in lower case.\n",
    "print(s.capitalize())# Capitalizing the 1st character of sentence case.\n",
    "print(k)\n",
    "print(k.strip()) # remove white space from start\n",
    "print(l)\n",
    "print(l.lstrip())# remove white space from end\n",
    "print(s.replace('Django','Flask')) # replacing string\n",
    "print(s.replace('w','a'))\n",
    "# find a code how to replace only a single character if there are many character are same.\n",
    "print(s.split())\n",
    "print(s+'',m)\n",
    "# print(s+o)# different type data string can not be concatinate with integer.\n",
    "print(s.count('o'))\n",
    "print(len(s))\n",
    "print(s.find('t'))# this is used to find a character in a sentence and it will give the position of 1st one position of that character.\n"
   ]
  }
 ],
 "metadata": {
  "kernelspec": {
   "display_name": "Python 3",
   "language": "python",
   "name": "python3"
  },
  "language_info": {
   "codemirror_mode": {
    "name": "ipython",
    "version": 3
   },
   "file_extension": ".py",
   "mimetype": "text/x-python",
   "name": "python",
   "nbconvert_exporter": "python",
   "pygments_lexer": "ipython3",
   "version": "3.10.4"
  }
 },
 "nbformat": 4,
 "nbformat_minor": 2
}
