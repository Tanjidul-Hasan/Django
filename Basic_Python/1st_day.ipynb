{
 "cells": [
  {
   "cell_type": "markdown",
   "metadata": {},
   "source": [
    "# Printing anything"
   ]
  },
  {
   "cell_type": "code",
   "execution_count": 1,
   "metadata": {},
   "outputs": [
    {
     "name": "stdout",
     "output_type": "stream",
     "text": [
      "Easy Education\n"
     ]
    }
   ],
   "source": [
    "# we use the print() function to output data to the standard output device(screen).\n",
    "print(\"Easy Education\")"
   ]
  },
  {
   "cell_type": "markdown",
   "metadata": {},
   "source": [
    "# Get Input from User "
   ]
  },
  {
   "cell_type": "code",
   "execution_count": 15,
   "metadata": {},
   "outputs": [
    {
     "name": "stdout",
     "output_type": "stream",
     "text": [
      "Organization Name is:Easy Education\n",
      "Organization Name is: Easy Education\n"
     ]
    }
   ],
   "source": [
    "#input() function is used to read a line of input enterd by the user at the console and reurns it as a string.\n",
    "name=input(\"Enter Your Organization Name:\")\n",
    "print(\"Organization Name is:\"+name)\n",
    "print(\"Organization Name is:\",name)# this will create a space"
   ]
  },
  {
   "cell_type": "markdown",
   "metadata": {},
   "source": [
    "# Variable"
   ]
  },
  {
   "cell_type": "code",
   "execution_count": null,
   "metadata": {},
   "outputs": [],
   "source": [
    "# variable are containers for storing data values.\n"
   ]
  },
  {
   "cell_type": "markdown",
   "metadata": {},
   "source": [
    "### Rules of Variable\n",
    "      i.The first character of the variable must be an alphabate or underscore(_).\n",
    "        Ex: EasyEducation/_easyeducation\n",
    "     ii.A variable name can only contain alpha-numeric character and underscores(A-Z,0-9,_) \n",
    "    iii.Identifier name must not contain any white-space, or special character(!,@,#,%,^,&,*)\n",
    "     iv.Identifier name must not be similar to any keyword defined in the language.\n",
    "      v.Identifier names are case sensetive.\n",
    "        Ex:EasyEducation and easyeducation is not the same. \n",
    "\n",
    "\n",
    "### Multi Words Variable\n",
    "    Python have 3 types variable of Multi Words Variable\n",
    "    i. Camel Case: \n",
    "       Each word, except the firs,starts with a capital letter.\n",
    "       Ex: camelCaseVariable=\"Hasan\"\n",
    "    ii.Pascla Case:\n",
    "       Each word starts with a capital letter.\n",
    "       Ex: PascalCaseVariable =\"Hasan\"\n",
    "    iii. Snake Case:\n",
    "        Each word sperated by an underscore character.\n",
    "        Ex: snake_case_variable=\"Django\"\n",
    "\n",
    "     \n",
    "#### Multi Assignment Variable\n",
    "     Python allows us to assign a value to multiple variables in a single staement , which is also known as multiple assignments. \n",
    "     we can apply multiple assignments in two ways. such as:\n",
    "     i. Assigning a single value to multiple variables.\n",
    "        Ex: a=b=c=10\n",
    "            print(a)\n",
    "            print(b)\n",
    "            print(c) \n",
    "    ii. Assigning a single value to multiple variables.\n",
    "        Ex: a,b,c=10,15,30\n",
    "            print(a)\n",
    "            print(b)\n",
    "            print(c) "
   ]
  },
  {
   "cell_type": "markdown",
   "metadata": {},
   "source": []
  }
 ],
 "metadata": {
  "kernelspec": {
   "display_name": "Python 3",
   "language": "python",
   "name": "python3"
  },
  "language_info": {
   "codemirror_mode": {
    "name": "ipython",
    "version": 3
   },
   "file_extension": ".py",
   "mimetype": "text/x-python",
   "name": "python",
   "nbconvert_exporter": "python",
   "pygments_lexer": "ipython3",
   "version": "3.10.4"
  }
 },
 "nbformat": 4,
 "nbformat_minor": 2
}
