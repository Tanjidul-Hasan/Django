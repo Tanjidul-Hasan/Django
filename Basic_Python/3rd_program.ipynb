{
 "cells": [
  {
   "cell_type": "code",
   "execution_count": 3,
   "metadata": {},
   "outputs": [
    {
     "name": "stdout",
     "output_type": "stream",
     "text": [
      "Hello Arshan\n",
      "Hello Arshan.com\n"
     ]
    }
   ],
   "source": [
    "from ast import Num, keyword\n",
    "\n",
    "\n",
    "a=\"Hello Arshan\"\n",
    "b=\"tanjidulhasan1@gmail.com\"\n",
    "a.capitalize()\n",
    "print(a[0:12])\n",
    "print(a[0:12]+b[20:24])\n"
   ]
  }
 ],
 "metadata": {
  "kernelspec": {
   "display_name": "Python 3",
   "language": "python",
   "name": "python3"
  },
  "language_info": {
   "codemirror_mode": {
    "name": "ipython",
    "version": 3
   },
   "file_extension": ".py",
   "mimetype": "text/x-python",
   "name": "python",
   "nbconvert_exporter": "python",
   "pygments_lexer": "ipython3",
   "version": "3.10.4"
  }
 },
 "nbformat": 4,
 "nbformat_minor": 2
}
